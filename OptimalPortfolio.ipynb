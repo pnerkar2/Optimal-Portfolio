{
 "cells": [
  {
   "cell_type": "code",
   "execution_count": 1,
   "metadata": {},
   "outputs": [],
   "source": [
    "import pandas as pd\n",
    "import numpy as np\n",
    "import pandas_datareader as pdr\n",
    "from scipy.optimize import minimize\n",
    "import matplotlib.pyplot as plt"
   ]
  },
  {
   "cell_type": "markdown",
   "metadata": {},
   "source": [
    "## Finding the optimal portfolio "
   ]
  },
  {
   "cell_type": "code",
   "execution_count": 2,
   "metadata": {},
   "outputs": [],
   "source": [
    "l1=['AAPL','AMZN','META','GOOGL','IBM','INTC','MSFT','ORCL','WMT']"
   ]
  },
  {
   "cell_type": "code",
   "execution_count": 3,
   "metadata": {},
   "outputs": [
    {
     "data": {
      "text/html": [
       "<div>\n",
       "<style scoped>\n",
       "    .dataframe tbody tr th:only-of-type {\n",
       "        vertical-align: middle;\n",
       "    }\n",
       "\n",
       "    .dataframe tbody tr th {\n",
       "        vertical-align: top;\n",
       "    }\n",
       "\n",
       "    .dataframe thead th {\n",
       "        text-align: right;\n",
       "    }\n",
       "</style>\n",
       "<table border=\"1\" class=\"dataframe\">\n",
       "  <thead>\n",
       "    <tr style=\"text-align: right;\">\n",
       "      <th>Symbols</th>\n",
       "      <th>AAPL</th>\n",
       "      <th>AMZN</th>\n",
       "      <th>META</th>\n",
       "      <th>GOOGL</th>\n",
       "      <th>IBM</th>\n",
       "      <th>INTC</th>\n",
       "      <th>MSFT</th>\n",
       "      <th>ORCL</th>\n",
       "      <th>WMT</th>\n",
       "    </tr>\n",
       "    <tr>\n",
       "      <th>Date</th>\n",
       "      <th></th>\n",
       "      <th></th>\n",
       "      <th></th>\n",
       "      <th></th>\n",
       "      <th></th>\n",
       "      <th></th>\n",
       "      <th></th>\n",
       "      <th></th>\n",
       "      <th></th>\n",
       "    </tr>\n",
       "  </thead>\n",
       "  <tbody>\n",
       "    <tr>\n",
       "      <th>2019-01-02</th>\n",
       "      <td>38.168346</td>\n",
       "      <td>76.956497</td>\n",
       "      <td>135.679993</td>\n",
       "      <td>52.734001</td>\n",
       "      <td>91.668610</td>\n",
       "      <td>42.586582</td>\n",
       "      <td>97.147713</td>\n",
       "      <td>42.296158</td>\n",
       "      <td>87.534340</td>\n",
       "    </tr>\n",
       "    <tr>\n",
       "      <th>2019-01-03</th>\n",
       "      <td>34.366501</td>\n",
       "      <td>75.014000</td>\n",
       "      <td>131.740005</td>\n",
       "      <td>51.273499</td>\n",
       "      <td>89.838577</td>\n",
       "      <td>40.243771</td>\n",
       "      <td>93.573837</td>\n",
       "      <td>41.884594</td>\n",
       "      <td>87.084206</td>\n",
       "    </tr>\n",
       "    <tr>\n",
       "      <th>2019-01-04</th>\n",
       "      <td>35.833588</td>\n",
       "      <td>78.769501</td>\n",
       "      <td>137.949997</td>\n",
       "      <td>53.903500</td>\n",
       "      <td>93.347466</td>\n",
       "      <td>42.713207</td>\n",
       "      <td>97.925880</td>\n",
       "      <td>43.689812</td>\n",
       "      <td>87.628151</td>\n",
       "    </tr>\n",
       "    <tr>\n",
       "      <th>2019-01-07</th>\n",
       "      <td>35.753826</td>\n",
       "      <td>81.475502</td>\n",
       "      <td>138.050003</td>\n",
       "      <td>53.796001</td>\n",
       "      <td>94.007843</td>\n",
       "      <td>42.912212</td>\n",
       "      <td>98.050766</td>\n",
       "      <td>44.381962</td>\n",
       "      <td>88.659714</td>\n",
       "    </tr>\n",
       "    <tr>\n",
       "      <th>2019-01-08</th>\n",
       "      <td>36.435402</td>\n",
       "      <td>82.829002</td>\n",
       "      <td>142.529999</td>\n",
       "      <td>54.268501</td>\n",
       "      <td>95.344566</td>\n",
       "      <td>43.183582</td>\n",
       "      <td>98.761711</td>\n",
       "      <td>44.784157</td>\n",
       "      <td>89.278671</td>\n",
       "    </tr>\n",
       "    <tr>\n",
       "      <th>...</th>\n",
       "      <td>...</td>\n",
       "      <td>...</td>\n",
       "      <td>...</td>\n",
       "      <td>...</td>\n",
       "      <td>...</td>\n",
       "      <td>...</td>\n",
       "      <td>...</td>\n",
       "      <td>...</td>\n",
       "      <td>...</td>\n",
       "    </tr>\n",
       "    <tr>\n",
       "      <th>2019-12-24</th>\n",
       "      <td>69.738731</td>\n",
       "      <td>89.460503</td>\n",
       "      <td>205.119995</td>\n",
       "      <td>67.221497</td>\n",
       "      <td>112.550049</td>\n",
       "      <td>55.080460</td>\n",
       "      <td>153.433273</td>\n",
       "      <td>50.837074</td>\n",
       "      <td>114.346436</td>\n",
       "    </tr>\n",
       "    <tr>\n",
       "      <th>2019-12-26</th>\n",
       "      <td>71.122360</td>\n",
       "      <td>93.438499</td>\n",
       "      <td>207.789993</td>\n",
       "      <td>68.123497</td>\n",
       "      <td>112.491692</td>\n",
       "      <td>55.460579</td>\n",
       "      <td>154.690887</td>\n",
       "      <td>50.960747</td>\n",
       "      <td>114.356003</td>\n",
       "    </tr>\n",
       "    <tr>\n",
       "      <th>2019-12-27</th>\n",
       "      <td>71.095383</td>\n",
       "      <td>93.489998</td>\n",
       "      <td>208.100006</td>\n",
       "      <td>67.732002</td>\n",
       "      <td>112.791862</td>\n",
       "      <td>55.701633</td>\n",
       "      <td>154.973648</td>\n",
       "      <td>50.856098</td>\n",
       "      <td>114.422974</td>\n",
       "    </tr>\n",
       "    <tr>\n",
       "      <th>2019-12-30</th>\n",
       "      <td>71.517342</td>\n",
       "      <td>92.344498</td>\n",
       "      <td>204.410004</td>\n",
       "      <td>66.985497</td>\n",
       "      <td>110.740639</td>\n",
       "      <td>55.275158</td>\n",
       "      <td>153.638000</td>\n",
       "      <td>50.133121</td>\n",
       "      <td>114.241203</td>\n",
       "    </tr>\n",
       "    <tr>\n",
       "      <th>2019-12-31</th>\n",
       "      <td>72.039871</td>\n",
       "      <td>92.391998</td>\n",
       "      <td>205.250000</td>\n",
       "      <td>66.969498</td>\n",
       "      <td>111.766251</td>\n",
       "      <td>55.488392</td>\n",
       "      <td>153.745224</td>\n",
       "      <td>50.399475</td>\n",
       "      <td>113.705376</td>\n",
       "    </tr>\n",
       "  </tbody>\n",
       "</table>\n",
       "<p>252 rows × 9 columns</p>\n",
       "</div>"
      ],
      "text/plain": [
       "Symbols          AAPL       AMZN        META      GOOGL         IBM  \\\n",
       "Date                                                                  \n",
       "2019-01-02  38.168346  76.956497  135.679993  52.734001   91.668610   \n",
       "2019-01-03  34.366501  75.014000  131.740005  51.273499   89.838577   \n",
       "2019-01-04  35.833588  78.769501  137.949997  53.903500   93.347466   \n",
       "2019-01-07  35.753826  81.475502  138.050003  53.796001   94.007843   \n",
       "2019-01-08  36.435402  82.829002  142.529999  54.268501   95.344566   \n",
       "...               ...        ...         ...        ...         ...   \n",
       "2019-12-24  69.738731  89.460503  205.119995  67.221497  112.550049   \n",
       "2019-12-26  71.122360  93.438499  207.789993  68.123497  112.491692   \n",
       "2019-12-27  71.095383  93.489998  208.100006  67.732002  112.791862   \n",
       "2019-12-30  71.517342  92.344498  204.410004  66.985497  110.740639   \n",
       "2019-12-31  72.039871  92.391998  205.250000  66.969498  111.766251   \n",
       "\n",
       "Symbols          INTC        MSFT       ORCL         WMT  \n",
       "Date                                                      \n",
       "2019-01-02  42.586582   97.147713  42.296158   87.534340  \n",
       "2019-01-03  40.243771   93.573837  41.884594   87.084206  \n",
       "2019-01-04  42.713207   97.925880  43.689812   87.628151  \n",
       "2019-01-07  42.912212   98.050766  44.381962   88.659714  \n",
       "2019-01-08  43.183582   98.761711  44.784157   89.278671  \n",
       "...               ...         ...        ...         ...  \n",
       "2019-12-24  55.080460  153.433273  50.837074  114.346436  \n",
       "2019-12-26  55.460579  154.690887  50.960747  114.356003  \n",
       "2019-12-27  55.701633  154.973648  50.856098  114.422974  \n",
       "2019-12-30  55.275158  153.638000  50.133121  114.241203  \n",
       "2019-12-31  55.488392  153.745224  50.399475  113.705376  \n",
       "\n",
       "[252 rows x 9 columns]"
      ]
     },
     "execution_count": 3,
     "metadata": {},
     "output_type": "execute_result"
    }
   ],
   "source": [
    "df1 = pdr.get_data_yahoo(l1, start='2019-01-01',end='2019-12-31')[\"Adj Close\"]\n",
    "df1"
   ]
  },
  {
   "cell_type": "code",
   "execution_count": 4,
   "metadata": {},
   "outputs": [],
   "source": [
    "df1.to_csv(\"df1_l7.csv\")"
   ]
  },
  {
   "cell_type": "code",
   "execution_count": 5,
   "metadata": {},
   "outputs": [
    {
     "data": {
      "text/html": [
       "<div>\n",
       "<style scoped>\n",
       "    .dataframe tbody tr th:only-of-type {\n",
       "        vertical-align: middle;\n",
       "    }\n",
       "\n",
       "    .dataframe tbody tr th {\n",
       "        vertical-align: top;\n",
       "    }\n",
       "\n",
       "    .dataframe thead th {\n",
       "        text-align: right;\n",
       "    }\n",
       "</style>\n",
       "<table border=\"1\" class=\"dataframe\">\n",
       "  <thead>\n",
       "    <tr style=\"text-align: right;\">\n",
       "      <th></th>\n",
       "      <th>AAPL</th>\n",
       "      <th>AMZN</th>\n",
       "      <th>META</th>\n",
       "      <th>GOOGL</th>\n",
       "      <th>IBM</th>\n",
       "      <th>INTC</th>\n",
       "      <th>MSFT</th>\n",
       "      <th>ORCL</th>\n",
       "      <th>WMT</th>\n",
       "    </tr>\n",
       "    <tr>\n",
       "      <th>Date</th>\n",
       "      <th></th>\n",
       "      <th></th>\n",
       "      <th></th>\n",
       "      <th></th>\n",
       "      <th></th>\n",
       "      <th></th>\n",
       "      <th></th>\n",
       "      <th></th>\n",
       "      <th></th>\n",
       "    </tr>\n",
       "  </thead>\n",
       "  <tbody>\n",
       "    <tr>\n",
       "      <th>2019-01-02</th>\n",
       "      <td>38.168346</td>\n",
       "      <td>76.956497</td>\n",
       "      <td>135.679993</td>\n",
       "      <td>52.734001</td>\n",
       "      <td>91.668610</td>\n",
       "      <td>42.586582</td>\n",
       "      <td>97.147713</td>\n",
       "      <td>42.296158</td>\n",
       "      <td>87.534340</td>\n",
       "    </tr>\n",
       "    <tr>\n",
       "      <th>2019-01-03</th>\n",
       "      <td>34.366501</td>\n",
       "      <td>75.014000</td>\n",
       "      <td>131.740005</td>\n",
       "      <td>51.273499</td>\n",
       "      <td>89.838577</td>\n",
       "      <td>40.243771</td>\n",
       "      <td>93.573837</td>\n",
       "      <td>41.884594</td>\n",
       "      <td>87.084206</td>\n",
       "    </tr>\n",
       "    <tr>\n",
       "      <th>2019-01-04</th>\n",
       "      <td>35.833588</td>\n",
       "      <td>78.769501</td>\n",
       "      <td>137.949997</td>\n",
       "      <td>53.903500</td>\n",
       "      <td>93.347466</td>\n",
       "      <td>42.713207</td>\n",
       "      <td>97.925880</td>\n",
       "      <td>43.689812</td>\n",
       "      <td>87.628151</td>\n",
       "    </tr>\n",
       "    <tr>\n",
       "      <th>2019-01-07</th>\n",
       "      <td>35.753826</td>\n",
       "      <td>81.475502</td>\n",
       "      <td>138.050003</td>\n",
       "      <td>53.796001</td>\n",
       "      <td>94.007843</td>\n",
       "      <td>42.912212</td>\n",
       "      <td>98.050766</td>\n",
       "      <td>44.381962</td>\n",
       "      <td>88.659714</td>\n",
       "    </tr>\n",
       "    <tr>\n",
       "      <th>2019-01-08</th>\n",
       "      <td>36.435402</td>\n",
       "      <td>82.829002</td>\n",
       "      <td>142.529999</td>\n",
       "      <td>54.268501</td>\n",
       "      <td>95.344566</td>\n",
       "      <td>43.183582</td>\n",
       "      <td>98.761711</td>\n",
       "      <td>44.784157</td>\n",
       "      <td>89.278671</td>\n",
       "    </tr>\n",
       "    <tr>\n",
       "      <th>...</th>\n",
       "      <td>...</td>\n",
       "      <td>...</td>\n",
       "      <td>...</td>\n",
       "      <td>...</td>\n",
       "      <td>...</td>\n",
       "      <td>...</td>\n",
       "      <td>...</td>\n",
       "      <td>...</td>\n",
       "      <td>...</td>\n",
       "    </tr>\n",
       "    <tr>\n",
       "      <th>2019-12-24</th>\n",
       "      <td>69.738731</td>\n",
       "      <td>89.460503</td>\n",
       "      <td>205.119995</td>\n",
       "      <td>67.221497</td>\n",
       "      <td>112.550049</td>\n",
       "      <td>55.080460</td>\n",
       "      <td>153.433273</td>\n",
       "      <td>50.837074</td>\n",
       "      <td>114.346436</td>\n",
       "    </tr>\n",
       "    <tr>\n",
       "      <th>2019-12-26</th>\n",
       "      <td>71.122360</td>\n",
       "      <td>93.438499</td>\n",
       "      <td>207.789993</td>\n",
       "      <td>68.123497</td>\n",
       "      <td>112.491692</td>\n",
       "      <td>55.460579</td>\n",
       "      <td>154.690887</td>\n",
       "      <td>50.960747</td>\n",
       "      <td>114.356003</td>\n",
       "    </tr>\n",
       "    <tr>\n",
       "      <th>2019-12-27</th>\n",
       "      <td>71.095383</td>\n",
       "      <td>93.489998</td>\n",
       "      <td>208.100006</td>\n",
       "      <td>67.732002</td>\n",
       "      <td>112.791862</td>\n",
       "      <td>55.701633</td>\n",
       "      <td>154.973648</td>\n",
       "      <td>50.856098</td>\n",
       "      <td>114.422974</td>\n",
       "    </tr>\n",
       "    <tr>\n",
       "      <th>2019-12-30</th>\n",
       "      <td>71.517342</td>\n",
       "      <td>92.344498</td>\n",
       "      <td>204.410004</td>\n",
       "      <td>66.985497</td>\n",
       "      <td>110.740639</td>\n",
       "      <td>55.275158</td>\n",
       "      <td>153.638000</td>\n",
       "      <td>50.133121</td>\n",
       "      <td>114.241203</td>\n",
       "    </tr>\n",
       "    <tr>\n",
       "      <th>2019-12-31</th>\n",
       "      <td>72.039871</td>\n",
       "      <td>92.391998</td>\n",
       "      <td>205.250000</td>\n",
       "      <td>66.969498</td>\n",
       "      <td>111.766251</td>\n",
       "      <td>55.488392</td>\n",
       "      <td>153.745224</td>\n",
       "      <td>50.399475</td>\n",
       "      <td>113.705376</td>\n",
       "    </tr>\n",
       "  </tbody>\n",
       "</table>\n",
       "<p>252 rows × 9 columns</p>\n",
       "</div>"
      ],
      "text/plain": [
       "                 AAPL       AMZN        META      GOOGL         IBM  \\\n",
       "Date                                                                  \n",
       "2019-01-02  38.168346  76.956497  135.679993  52.734001   91.668610   \n",
       "2019-01-03  34.366501  75.014000  131.740005  51.273499   89.838577   \n",
       "2019-01-04  35.833588  78.769501  137.949997  53.903500   93.347466   \n",
       "2019-01-07  35.753826  81.475502  138.050003  53.796001   94.007843   \n",
       "2019-01-08  36.435402  82.829002  142.529999  54.268501   95.344566   \n",
       "...               ...        ...         ...        ...         ...   \n",
       "2019-12-24  69.738731  89.460503  205.119995  67.221497  112.550049   \n",
       "2019-12-26  71.122360  93.438499  207.789993  68.123497  112.491692   \n",
       "2019-12-27  71.095383  93.489998  208.100006  67.732002  112.791862   \n",
       "2019-12-30  71.517342  92.344498  204.410004  66.985497  110.740639   \n",
       "2019-12-31  72.039871  92.391998  205.250000  66.969498  111.766251   \n",
       "\n",
       "                 INTC        MSFT       ORCL         WMT  \n",
       "Date                                                      \n",
       "2019-01-02  42.586582   97.147713  42.296158   87.534340  \n",
       "2019-01-03  40.243771   93.573837  41.884594   87.084206  \n",
       "2019-01-04  42.713207   97.925880  43.689812   87.628151  \n",
       "2019-01-07  42.912212   98.050766  44.381962   88.659714  \n",
       "2019-01-08  43.183582   98.761711  44.784157   89.278671  \n",
       "...               ...         ...        ...         ...  \n",
       "2019-12-24  55.080460  153.433273  50.837074  114.346436  \n",
       "2019-12-26  55.460579  154.690887  50.960747  114.356003  \n",
       "2019-12-27  55.701633  154.973648  50.856098  114.422974  \n",
       "2019-12-30  55.275158  153.638000  50.133121  114.241203  \n",
       "2019-12-31  55.488392  153.745224  50.399475  113.705376  \n",
       "\n",
       "[252 rows x 9 columns]"
      ]
     },
     "execution_count": 5,
     "metadata": {},
     "output_type": "execute_result"
    }
   ],
   "source": [
    "df1=pd.read_csv(\"df1_l7.csv\",parse_dates=[\"Date\"],index_col=[\"Date\"])\n",
    "df1\n",
    "# parse_dates changes date column from string to datetime\n",
    "# index_col sets the date column as the index "
   ]
  },
  {
   "cell_type": "code",
   "execution_count": 6,
   "metadata": {},
   "outputs": [
    {
     "data": {
      "text/html": [
       "<div>\n",
       "<style scoped>\n",
       "    .dataframe tbody tr th:only-of-type {\n",
       "        vertical-align: middle;\n",
       "    }\n",
       "\n",
       "    .dataframe tbody tr th {\n",
       "        vertical-align: top;\n",
       "    }\n",
       "\n",
       "    .dataframe thead th {\n",
       "        text-align: right;\n",
       "    }\n",
       "</style>\n",
       "<table border=\"1\" class=\"dataframe\">\n",
       "  <thead>\n",
       "    <tr style=\"text-align: right;\">\n",
       "      <th></th>\n",
       "      <th>AAPL</th>\n",
       "      <th>AMZN</th>\n",
       "      <th>META</th>\n",
       "      <th>GOOGL</th>\n",
       "      <th>IBM</th>\n",
       "      <th>INTC</th>\n",
       "      <th>MSFT</th>\n",
       "      <th>ORCL</th>\n",
       "      <th>WMT</th>\n",
       "    </tr>\n",
       "    <tr>\n",
       "      <th>Date</th>\n",
       "      <th></th>\n",
       "      <th></th>\n",
       "      <th></th>\n",
       "      <th></th>\n",
       "      <th></th>\n",
       "      <th></th>\n",
       "      <th></th>\n",
       "      <th></th>\n",
       "      <th></th>\n",
       "    </tr>\n",
       "  </thead>\n",
       "  <tbody>\n",
       "    <tr>\n",
       "      <th>2019-01-03</th>\n",
       "      <td>-0.104924</td>\n",
       "      <td>-0.025566</td>\n",
       "      <td>-0.029469</td>\n",
       "      <td>-0.028086</td>\n",
       "      <td>-0.020166</td>\n",
       "      <td>-0.056584</td>\n",
       "      <td>-0.037482</td>\n",
       "      <td>-0.009778</td>\n",
       "      <td>-0.005156</td>\n",
       "    </tr>\n",
       "    <tr>\n",
       "      <th>2019-01-04</th>\n",
       "      <td>0.041803</td>\n",
       "      <td>0.048851</td>\n",
       "      <td>0.046061</td>\n",
       "      <td>0.050021</td>\n",
       "      <td>0.038314</td>\n",
       "      <td>0.059553</td>\n",
       "      <td>0.045460</td>\n",
       "      <td>0.042197</td>\n",
       "      <td>0.006227</td>\n",
       "    </tr>\n",
       "    <tr>\n",
       "      <th>2019-01-07</th>\n",
       "      <td>-0.002228</td>\n",
       "      <td>0.033777</td>\n",
       "      <td>0.000725</td>\n",
       "      <td>-0.001996</td>\n",
       "      <td>0.007049</td>\n",
       "      <td>0.004648</td>\n",
       "      <td>0.001274</td>\n",
       "      <td>0.015718</td>\n",
       "      <td>0.011703</td>\n",
       "    </tr>\n",
       "    <tr>\n",
       "      <th>2019-01-08</th>\n",
       "      <td>0.018884</td>\n",
       "      <td>0.016476</td>\n",
       "      <td>0.031937</td>\n",
       "      <td>0.008745</td>\n",
       "      <td>0.014119</td>\n",
       "      <td>0.006304</td>\n",
       "      <td>0.007225</td>\n",
       "      <td>0.009021</td>\n",
       "      <td>0.006957</td>\n",
       "    </tr>\n",
       "    <tr>\n",
       "      <th>2019-01-09</th>\n",
       "      <td>0.016839</td>\n",
       "      <td>0.001713</td>\n",
       "      <td>0.011857</td>\n",
       "      <td>-0.003433</td>\n",
       "      <td>0.007151</td>\n",
       "      <td>0.005640</td>\n",
       "      <td>0.014198</td>\n",
       "      <td>-0.002091</td>\n",
       "      <td>-0.003262</td>\n",
       "    </tr>\n",
       "    <tr>\n",
       "      <th>...</th>\n",
       "      <td>...</td>\n",
       "      <td>...</td>\n",
       "      <td>...</td>\n",
       "      <td>...</td>\n",
       "      <td>...</td>\n",
       "      <td>...</td>\n",
       "      <td>...</td>\n",
       "      <td>...</td>\n",
       "      <td>...</td>\n",
       "    </tr>\n",
       "    <tr>\n",
       "      <th>2019-12-24</th>\n",
       "      <td>0.000950</td>\n",
       "      <td>-0.002116</td>\n",
       "      <td>-0.005154</td>\n",
       "      <td>-0.004601</td>\n",
       "      <td>-0.004214</td>\n",
       "      <td>0.003035</td>\n",
       "      <td>-0.000191</td>\n",
       "      <td>-0.005040</td>\n",
       "      <td>0.004024</td>\n",
       "    </tr>\n",
       "    <tr>\n",
       "      <th>2019-12-26</th>\n",
       "      <td>0.019646</td>\n",
       "      <td>0.043506</td>\n",
       "      <td>0.012933</td>\n",
       "      <td>0.013329</td>\n",
       "      <td>-0.000519</td>\n",
       "      <td>0.006877</td>\n",
       "      <td>0.008163</td>\n",
       "      <td>0.002430</td>\n",
       "      <td>0.000084</td>\n",
       "    </tr>\n",
       "    <tr>\n",
       "      <th>2019-12-27</th>\n",
       "      <td>-0.000379</td>\n",
       "      <td>0.000551</td>\n",
       "      <td>0.001491</td>\n",
       "      <td>-0.005763</td>\n",
       "      <td>0.002665</td>\n",
       "      <td>0.004337</td>\n",
       "      <td>0.001826</td>\n",
       "      <td>-0.002056</td>\n",
       "      <td>0.000585</td>\n",
       "    </tr>\n",
       "    <tr>\n",
       "      <th>2019-12-30</th>\n",
       "      <td>0.005918</td>\n",
       "      <td>-0.012328</td>\n",
       "      <td>-0.017891</td>\n",
       "      <td>-0.011083</td>\n",
       "      <td>-0.018353</td>\n",
       "      <td>-0.007686</td>\n",
       "      <td>-0.008656</td>\n",
       "      <td>-0.014318</td>\n",
       "      <td>-0.001590</td>\n",
       "    </tr>\n",
       "    <tr>\n",
       "      <th>2019-12-31</th>\n",
       "      <td>0.007280</td>\n",
       "      <td>0.000514</td>\n",
       "      <td>0.004101</td>\n",
       "      <td>-0.000239</td>\n",
       "      <td>0.009219</td>\n",
       "      <td>0.003850</td>\n",
       "      <td>0.000698</td>\n",
       "      <td>0.005299</td>\n",
       "      <td>-0.004701</td>\n",
       "    </tr>\n",
       "  </tbody>\n",
       "</table>\n",
       "<p>251 rows × 9 columns</p>\n",
       "</div>"
      ],
      "text/plain": [
       "                AAPL      AMZN      META     GOOGL       IBM      INTC  \\\n",
       "Date                                                                     \n",
       "2019-01-03 -0.104924 -0.025566 -0.029469 -0.028086 -0.020166 -0.056584   \n",
       "2019-01-04  0.041803  0.048851  0.046061  0.050021  0.038314  0.059553   \n",
       "2019-01-07 -0.002228  0.033777  0.000725 -0.001996  0.007049  0.004648   \n",
       "2019-01-08  0.018884  0.016476  0.031937  0.008745  0.014119  0.006304   \n",
       "2019-01-09  0.016839  0.001713  0.011857 -0.003433  0.007151  0.005640   \n",
       "...              ...       ...       ...       ...       ...       ...   \n",
       "2019-12-24  0.000950 -0.002116 -0.005154 -0.004601 -0.004214  0.003035   \n",
       "2019-12-26  0.019646  0.043506  0.012933  0.013329 -0.000519  0.006877   \n",
       "2019-12-27 -0.000379  0.000551  0.001491 -0.005763  0.002665  0.004337   \n",
       "2019-12-30  0.005918 -0.012328 -0.017891 -0.011083 -0.018353 -0.007686   \n",
       "2019-12-31  0.007280  0.000514  0.004101 -0.000239  0.009219  0.003850   \n",
       "\n",
       "                MSFT      ORCL       WMT  \n",
       "Date                                      \n",
       "2019-01-03 -0.037482 -0.009778 -0.005156  \n",
       "2019-01-04  0.045460  0.042197  0.006227  \n",
       "2019-01-07  0.001274  0.015718  0.011703  \n",
       "2019-01-08  0.007225  0.009021  0.006957  \n",
       "2019-01-09  0.014198 -0.002091 -0.003262  \n",
       "...              ...       ...       ...  \n",
       "2019-12-24 -0.000191 -0.005040  0.004024  \n",
       "2019-12-26  0.008163  0.002430  0.000084  \n",
       "2019-12-27  0.001826 -0.002056  0.000585  \n",
       "2019-12-30 -0.008656 -0.014318 -0.001590  \n",
       "2019-12-31  0.000698  0.005299 -0.004701  \n",
       "\n",
       "[251 rows x 9 columns]"
      ]
     },
     "execution_count": 6,
     "metadata": {},
     "output_type": "execute_result"
    }
   ],
   "source": [
    "# log return \n",
    "df2=np.log(df1/df1.shift(1)).dropna()\n",
    "df2"
   ]
  },
  {
   "cell_type": "markdown",
   "metadata": {},
   "source": [
    "### equally-weighted portfolio"
   ]
  },
  {
   "cell_type": "code",
   "execution_count": 7,
   "metadata": {},
   "outputs": [
    {
     "data": {
      "text/plain": [
       "array([0.11111111, 0.11111111, 0.11111111, 0.11111111, 0.11111111,\n",
       "       0.11111111, 0.11111111, 0.11111111, 0.11111111])"
      ]
     },
     "execution_count": 7,
     "metadata": {},
     "output_type": "execute_result"
    }
   ],
   "source": [
    "a1=np.array([1/9]*9)\n",
    "a1"
   ]
  },
  {
   "cell_type": "code",
   "execution_count": 8,
   "metadata": {},
   "outputs": [
    {
     "data": {
      "text/plain": [
       "AAPL     0.002531\n",
       "AMZN     0.000728\n",
       "META     0.001649\n",
       "GOOGL    0.000952\n",
       "IBM      0.000790\n",
       "INTC     0.001054\n",
       "MSFT     0.001829\n",
       "ORCL     0.000698\n",
       "WMT      0.001042\n",
       "dtype: float64"
      ]
     },
     "execution_count": 8,
     "metadata": {},
     "output_type": "execute_result"
    }
   ],
   "source": [
    "# individual stocks' daily returns \n",
    "df2.mean()"
   ]
  },
  {
   "cell_type": "code",
   "execution_count": 9,
   "metadata": {},
   "outputs": [
    {
     "data": {
      "text/plain": [
       "0.0012526393130306126"
      ]
     },
     "execution_count": 9,
     "metadata": {},
     "output_type": "execute_result"
    }
   ],
   "source": [
    "# portfolio return\n",
    "np.dot(df2.mean(),a1)"
   ]
  },
  {
   "cell_type": "code",
   "execution_count": 10,
   "metadata": {},
   "outputs": [
    {
     "data": {
      "text/plain": [
       "0.31315982825765315"
      ]
     },
     "execution_count": 10,
     "metadata": {},
     "output_type": "execute_result"
    }
   ],
   "source": [
    "# annualize the portfolio return \n",
    "np.dot(df2.mean(),a1)*250"
   ]
  },
  {
   "cell_type": "code",
   "execution_count": 11,
   "metadata": {},
   "outputs": [
    {
     "data": {
      "text/html": [
       "<div>\n",
       "<style scoped>\n",
       "    .dataframe tbody tr th:only-of-type {\n",
       "        vertical-align: middle;\n",
       "    }\n",
       "\n",
       "    .dataframe tbody tr th {\n",
       "        vertical-align: top;\n",
       "    }\n",
       "\n",
       "    .dataframe thead th {\n",
       "        text-align: right;\n",
       "    }\n",
       "</style>\n",
       "<table border=\"1\" class=\"dataframe\">\n",
       "  <thead>\n",
       "    <tr style=\"text-align: right;\">\n",
       "      <th></th>\n",
       "      <th>AAPL</th>\n",
       "      <th>AMZN</th>\n",
       "      <th>META</th>\n",
       "      <th>GOOGL</th>\n",
       "      <th>IBM</th>\n",
       "      <th>INTC</th>\n",
       "      <th>MSFT</th>\n",
       "      <th>ORCL</th>\n",
       "      <th>WMT</th>\n",
       "    </tr>\n",
       "  </thead>\n",
       "  <tbody>\n",
       "    <tr>\n",
       "      <th>AAPL</th>\n",
       "      <td>0.000276</td>\n",
       "      <td>0.000141</td>\n",
       "      <td>0.000138</td>\n",
       "      <td>0.000139</td>\n",
       "      <td>0.000098</td>\n",
       "      <td>0.000157</td>\n",
       "      <td>0.000129</td>\n",
       "      <td>0.000093</td>\n",
       "      <td>0.000027</td>\n",
       "    </tr>\n",
       "    <tr>\n",
       "      <th>AMZN</th>\n",
       "      <td>0.000141</td>\n",
       "      <td>0.000207</td>\n",
       "      <td>0.000155</td>\n",
       "      <td>0.000134</td>\n",
       "      <td>0.000083</td>\n",
       "      <td>0.000097</td>\n",
       "      <td>0.000130</td>\n",
       "      <td>0.000076</td>\n",
       "      <td>0.000044</td>\n",
       "    </tr>\n",
       "    <tr>\n",
       "      <th>META</th>\n",
       "      <td>0.000138</td>\n",
       "      <td>0.000155</td>\n",
       "      <td>0.000302</td>\n",
       "      <td>0.000150</td>\n",
       "      <td>0.000058</td>\n",
       "      <td>0.000101</td>\n",
       "      <td>0.000117</td>\n",
       "      <td>0.000085</td>\n",
       "      <td>0.000030</td>\n",
       "    </tr>\n",
       "    <tr>\n",
       "      <th>GOOGL</th>\n",
       "      <td>0.000139</td>\n",
       "      <td>0.000134</td>\n",
       "      <td>0.000150</td>\n",
       "      <td>0.000223</td>\n",
       "      <td>0.000078</td>\n",
       "      <td>0.000097</td>\n",
       "      <td>0.000120</td>\n",
       "      <td>0.000074</td>\n",
       "      <td>0.000034</td>\n",
       "    </tr>\n",
       "    <tr>\n",
       "      <th>IBM</th>\n",
       "      <td>0.000098</td>\n",
       "      <td>0.000083</td>\n",
       "      <td>0.000058</td>\n",
       "      <td>0.000078</td>\n",
       "      <td>0.000167</td>\n",
       "      <td>0.000092</td>\n",
       "      <td>0.000086</td>\n",
       "      <td>0.000091</td>\n",
       "      <td>0.000043</td>\n",
       "    </tr>\n",
       "    <tr>\n",
       "      <th>INTC</th>\n",
       "      <td>0.000157</td>\n",
       "      <td>0.000097</td>\n",
       "      <td>0.000101</td>\n",
       "      <td>0.000097</td>\n",
       "      <td>0.000092</td>\n",
       "      <td>0.000293</td>\n",
       "      <td>0.000110</td>\n",
       "      <td>0.000091</td>\n",
       "      <td>0.000045</td>\n",
       "    </tr>\n",
       "    <tr>\n",
       "      <th>MSFT</th>\n",
       "      <td>0.000129</td>\n",
       "      <td>0.000130</td>\n",
       "      <td>0.000117</td>\n",
       "      <td>0.000120</td>\n",
       "      <td>0.000086</td>\n",
       "      <td>0.000110</td>\n",
       "      <td>0.000156</td>\n",
       "      <td>0.000086</td>\n",
       "      <td>0.000042</td>\n",
       "    </tr>\n",
       "    <tr>\n",
       "      <th>ORCL</th>\n",
       "      <td>0.000093</td>\n",
       "      <td>0.000076</td>\n",
       "      <td>0.000085</td>\n",
       "      <td>0.000074</td>\n",
       "      <td>0.000091</td>\n",
       "      <td>0.000091</td>\n",
       "      <td>0.000086</td>\n",
       "      <td>0.000155</td>\n",
       "      <td>0.000032</td>\n",
       "    </tr>\n",
       "    <tr>\n",
       "      <th>WMT</th>\n",
       "      <td>0.000027</td>\n",
       "      <td>0.000044</td>\n",
       "      <td>0.000030</td>\n",
       "      <td>0.000034</td>\n",
       "      <td>0.000043</td>\n",
       "      <td>0.000045</td>\n",
       "      <td>0.000042</td>\n",
       "      <td>0.000032</td>\n",
       "      <td>0.000082</td>\n",
       "    </tr>\n",
       "  </tbody>\n",
       "</table>\n",
       "</div>"
      ],
      "text/plain": [
       "           AAPL      AMZN      META     GOOGL       IBM      INTC      MSFT  \\\n",
       "AAPL   0.000276  0.000141  0.000138  0.000139  0.000098  0.000157  0.000129   \n",
       "AMZN   0.000141  0.000207  0.000155  0.000134  0.000083  0.000097  0.000130   \n",
       "META   0.000138  0.000155  0.000302  0.000150  0.000058  0.000101  0.000117   \n",
       "GOOGL  0.000139  0.000134  0.000150  0.000223  0.000078  0.000097  0.000120   \n",
       "IBM    0.000098  0.000083  0.000058  0.000078  0.000167  0.000092  0.000086   \n",
       "INTC   0.000157  0.000097  0.000101  0.000097  0.000092  0.000293  0.000110   \n",
       "MSFT   0.000129  0.000130  0.000117  0.000120  0.000086  0.000110  0.000156   \n",
       "ORCL   0.000093  0.000076  0.000085  0.000074  0.000091  0.000091  0.000086   \n",
       "WMT    0.000027  0.000044  0.000030  0.000034  0.000043  0.000045  0.000042   \n",
       "\n",
       "           ORCL       WMT  \n",
       "AAPL   0.000093  0.000027  \n",
       "AMZN   0.000076  0.000044  \n",
       "META   0.000085  0.000030  \n",
       "GOOGL  0.000074  0.000034  \n",
       "IBM    0.000091  0.000043  \n",
       "INTC   0.000091  0.000045  \n",
       "MSFT   0.000086  0.000042  \n",
       "ORCL   0.000155  0.000032  \n",
       "WMT    0.000032  0.000082  "
      ]
     },
     "execution_count": 11,
     "metadata": {},
     "output_type": "execute_result"
    }
   ],
   "source": [
    "# variance and covariance matrix \n",
    "df2.cov()"
   ]
  },
  {
   "cell_type": "code",
   "execution_count": 12,
   "metadata": {},
   "outputs": [
    {
     "data": {
      "text/plain": [
       "0.00010449722801305695"
      ]
     },
     "execution_count": 12,
     "metadata": {},
     "output_type": "execute_result"
    }
   ],
   "source": [
    "# portfolio variance \n",
    "np.dot(a1.T, np.dot(df2.cov(), a1))"
   ]
  },
  {
   "cell_type": "code",
   "execution_count": 13,
   "metadata": {},
   "outputs": [
    {
     "data": {
      "text/plain": [
       "0.026124307003264235"
      ]
     },
     "execution_count": 13,
     "metadata": {},
     "output_type": "execute_result"
    }
   ],
   "source": [
    "# annualize the portfolio variance \n",
    "np.dot(a1.T, np.dot(df2.cov()*250, a1))"
   ]
  },
  {
   "cell_type": "code",
   "execution_count": 14,
   "metadata": {},
   "outputs": [
    {
     "data": {
      "text/plain": [
       "0.16163015499362807"
      ]
     },
     "execution_count": 14,
     "metadata": {},
     "output_type": "execute_result"
    }
   ],
   "source": [
    "# annualize the portfolio standard deviation \n",
    "np.dot(a1.T, np.dot(df2.cov()*250, a1))**0.5"
   ]
  },
  {
   "cell_type": "code",
   "execution_count": 15,
   "metadata": {},
   "outputs": [],
   "source": [
    "def portfolio(a1):\n",
    "    ret=np.dot(df2.mean(),a1)*250\n",
    "    std=np.dot(a1.T, np.dot(df2.cov()*250, a1))**0.5\n",
    "    sharpe=(ret-0.03)/std          \n",
    "    return ret,std,sharpe\n",
    "# assume the annual interest rate is 0.03"
   ]
  },
  {
   "cell_type": "code",
   "execution_count": 16,
   "metadata": {},
   "outputs": [
    {
     "data": {
      "text/plain": [
       "(0.31315982825765315, 0.16163015499362807, 1.7518997508157816)"
      ]
     },
     "execution_count": 16,
     "metadata": {},
     "output_type": "execute_result"
    }
   ],
   "source": [
    "portfolio(a1)"
   ]
  },
  {
   "cell_type": "code",
   "execution_count": 17,
   "metadata": {},
   "outputs": [],
   "source": [
    "# ret, std, and sharpe ratio of the equally-weigthed portfolio \n",
    "ret1,std1,sharpe1=portfolio(a1)"
   ]
  },
  {
   "cell_type": "code",
   "execution_count": 18,
   "metadata": {},
   "outputs": [
    {
     "data": {
      "text/plain": [
       "0.31315982825765315"
      ]
     },
     "execution_count": 18,
     "metadata": {},
     "output_type": "execute_result"
    }
   ],
   "source": [
    "ret1"
   ]
  },
  {
   "cell_type": "code",
   "execution_count": 19,
   "metadata": {},
   "outputs": [
    {
     "data": {
      "text/plain": [
       "0.16163015499362807"
      ]
     },
     "execution_count": 19,
     "metadata": {},
     "output_type": "execute_result"
    }
   ],
   "source": [
    "std1"
   ]
  },
  {
   "cell_type": "code",
   "execution_count": 20,
   "metadata": {},
   "outputs": [
    {
     "data": {
      "text/plain": [
       "1.7518997508157816"
      ]
     },
     "execution_count": 20,
     "metadata": {},
     "output_type": "execute_result"
    }
   ],
   "source": [
    "sharpe1"
   ]
  },
  {
   "cell_type": "code",
   "execution_count": 21,
   "metadata": {},
   "outputs": [
    {
     "data": {
      "text/plain": [
       "AAPL     0.111111\n",
       "AMZN     0.111111\n",
       "META     0.111111\n",
       "GOOGL    0.111111\n",
       "IBM      0.111111\n",
       "INTC     0.111111\n",
       "MSFT     0.111111\n",
       "ORCL     0.111111\n",
       "WMT      0.111111\n",
       "dtype: float64"
      ]
     },
     "execution_count": 21,
     "metadata": {},
     "output_type": "execute_result"
    }
   ],
   "source": [
    "# weights in a series with index values\n",
    "w1=pd.Series(data=a1,index=df2.columns)\n",
    "w1"
   ]
  },
  {
   "cell_type": "markdown",
   "metadata": {},
   "source": [
    "### 1000 simulated portfolios"
   ]
  },
  {
   "cell_type": "code",
   "execution_count": 22,
   "metadata": {},
   "outputs": [
    {
     "data": {
      "text/plain": [
       "array([[0.5488135 , 0.71518937, 0.60276338, ..., 0.43758721, 0.891773  ,\n",
       "        0.96366276],\n",
       "       [0.38344152, 0.79172504, 0.52889492, ..., 0.0871293 , 0.0202184 ,\n",
       "        0.83261985],\n",
       "       [0.77815675, 0.87001215, 0.97861834, ..., 0.11827443, 0.63992102,\n",
       "        0.14335329],\n",
       "       ...,\n",
       "       [0.5595493 , 0.15717148, 0.9211057 , ..., 0.11142241, 0.36491545,\n",
       "        0.69602331],\n",
       "       [0.82690447, 0.18081524, 0.62524038, ..., 0.86104389, 0.62770566,\n",
       "        0.68154365],\n",
       "       [0.39316615, 0.26688037, 0.93209648, ..., 0.06915139, 0.75806398,\n",
       "        0.932006  ]])"
      ]
     },
     "execution_count": 22,
     "metadata": {},
     "output_type": "execute_result"
    }
   ],
   "source": [
    "np.random.seed(0)\n",
    "# 1000*9 random numbers from a uniform distribution over [0, 1)\n",
    "a2=np.random.rand(1000,9)\n",
    "a2"
   ]
  },
  {
   "cell_type": "code",
   "execution_count": 23,
   "metadata": {},
   "outputs": [
    {
     "data": {
      "text/plain": [
       "array([[0.09504546, 0.12385902, 0.10438869, ..., 0.0757829 , 0.15444039,\n",
       "        0.16689051],\n",
       "       [0.09110674, 0.18811601, 0.12566686, ..., 0.02070216, 0.00480395,\n",
       "        0.19783273],\n",
       "       [0.13971745, 0.15621001, 0.17571017, ..., 0.02123608, 0.11489733,\n",
       "        0.02573897],\n",
       "       ...,\n",
       "       [0.11797708, 0.03313851, 0.19420873, ..., 0.02349264, 0.07693988,\n",
       "        0.14675167],\n",
       "       [0.18190131, 0.03977549, 0.13753952, ..., 0.18941126, 0.13808183,\n",
       "        0.14992504],\n",
       "       [0.09041629, 0.06137439, 0.21435393, ..., 0.01590272, 0.17433173,\n",
       "        0.21433312]])"
      ]
     },
     "execution_count": 23,
     "metadata": {},
     "output_type": "execute_result"
    }
   ],
   "source": [
    "# normalize the weights \n",
    "# sum of the weights is 1\n",
    "for i in range(len(a2)):\n",
    "    a2[i]=a2[i]/sum(a2[i])\n",
    "a2"
   ]
  },
  {
   "cell_type": "code",
   "execution_count": 24,
   "metadata": {},
   "outputs": [
    {
     "data": {
      "text/plain": [
       "(1000, 9)"
      ]
     },
     "execution_count": 24,
     "metadata": {},
     "output_type": "execute_result"
    }
   ],
   "source": [
    "a2.shape"
   ]
  },
  {
   "cell_type": "code",
   "execution_count": 25,
   "metadata": {},
   "outputs": [
    {
     "data": {
      "text/plain": [
       "array([0.09504546, 0.12385902, 0.10438869, 0.09436479, 0.07337003,\n",
       "       0.11185822, 0.0757829 , 0.15444039, 0.16689051])"
      ]
     },
     "execution_count": 25,
     "metadata": {},
     "output_type": "execute_result"
    }
   ],
   "source": [
    "a2[0]"
   ]
  },
  {
   "cell_type": "code",
   "execution_count": 26,
   "metadata": {},
   "outputs": [
    {
     "data": {
      "text/plain": [
       "1.0"
      ]
     },
     "execution_count": 26,
     "metadata": {},
     "output_type": "execute_result"
    }
   ],
   "source": [
    "np.sum(a2[0])"
   ]
  },
  {
   "cell_type": "code",
   "execution_count": 27,
   "metadata": {},
   "outputs": [],
   "source": [
    "def portfolios(a2):\n",
    "    df=pd.DataFrame(data={'ret':np.zeros(len(a2)),'std':np.zeros(len(a2)),'sharpe':np.zeros(len(a2))})\n",
    "    for i in range(len(a2)):\n",
    "        df['ret'][i]=np.dot(df2.mean(),a2[i])*250\n",
    "        df['std'][i]=np.dot(a2[i].T, np.dot(df2.cov()*250, a2[i]))**0.5\n",
    "        df['sharpe'][i]=(df['ret'][i]-0.03)/df['std'][i]          \n",
    "    return df"
   ]
  },
  {
   "cell_type": "code",
   "execution_count": 28,
   "metadata": {},
   "outputs": [
    {
     "data": {
      "text/html": [
       "<div>\n",
       "<style scoped>\n",
       "    .dataframe tbody tr th:only-of-type {\n",
       "        vertical-align: middle;\n",
       "    }\n",
       "\n",
       "    .dataframe tbody tr th {\n",
       "        vertical-align: top;\n",
       "    }\n",
       "\n",
       "    .dataframe thead th {\n",
       "        text-align: right;\n",
       "    }\n",
       "</style>\n",
       "<table border=\"1\" class=\"dataframe\">\n",
       "  <thead>\n",
       "    <tr style=\"text-align: right;\">\n",
       "      <th></th>\n",
       "      <th>ret</th>\n",
       "      <th>std</th>\n",
       "      <th>sharpe</th>\n",
       "    </tr>\n",
       "  </thead>\n",
       "  <tbody>\n",
       "    <tr>\n",
       "      <th>0</th>\n",
       "      <td>0.297248</td>\n",
       "      <td>0.155302</td>\n",
       "      <td>1.720833</td>\n",
       "    </tr>\n",
       "    <tr>\n",
       "      <th>1</th>\n",
       "      <td>0.285546</td>\n",
       "      <td>0.156532</td>\n",
       "      <td>1.632545</td>\n",
       "    </tr>\n",
       "    <tr>\n",
       "      <th>2</th>\n",
       "      <td>0.313208</td>\n",
       "      <td>0.177457</td>\n",
       "      <td>1.595927</td>\n",
       "    </tr>\n",
       "    <tr>\n",
       "      <th>3</th>\n",
       "      <td>0.354470</td>\n",
       "      <td>0.165167</td>\n",
       "      <td>1.964500</td>\n",
       "    </tr>\n",
       "    <tr>\n",
       "      <th>4</th>\n",
       "      <td>0.342876</td>\n",
       "      <td>0.168816</td>\n",
       "      <td>1.853349</td>\n",
       "    </tr>\n",
       "    <tr>\n",
       "      <th>...</th>\n",
       "      <td>...</td>\n",
       "      <td>...</td>\n",
       "      <td>...</td>\n",
       "    </tr>\n",
       "    <tr>\n",
       "      <th>995</th>\n",
       "      <td>0.303341</td>\n",
       "      <td>0.173464</td>\n",
       "      <td>1.575773</td>\n",
       "    </tr>\n",
       "    <tr>\n",
       "      <th>996</th>\n",
       "      <td>0.303348</td>\n",
       "      <td>0.156756</td>\n",
       "      <td>1.743788</td>\n",
       "    </tr>\n",
       "    <tr>\n",
       "      <th>997</th>\n",
       "      <td>0.313440</td>\n",
       "      <td>0.161650</td>\n",
       "      <td>1.753420</td>\n",
       "    </tr>\n",
       "    <tr>\n",
       "      <th>998</th>\n",
       "      <td>0.369338</td>\n",
       "      <td>0.162429</td>\n",
       "      <td>2.089153</td>\n",
       "    </tr>\n",
       "    <tr>\n",
       "      <th>999</th>\n",
       "      <td>0.300511</td>\n",
       "      <td>0.152150</td>\n",
       "      <td>1.777929</td>\n",
       "    </tr>\n",
       "  </tbody>\n",
       "</table>\n",
       "<p>1000 rows × 3 columns</p>\n",
       "</div>"
      ],
      "text/plain": [
       "          ret       std    sharpe\n",
       "0    0.297248  0.155302  1.720833\n",
       "1    0.285546  0.156532  1.632545\n",
       "2    0.313208  0.177457  1.595927\n",
       "3    0.354470  0.165167  1.964500\n",
       "4    0.342876  0.168816  1.853349\n",
       "..        ...       ...       ...\n",
       "995  0.303341  0.173464  1.575773\n",
       "996  0.303348  0.156756  1.743788\n",
       "997  0.313440  0.161650  1.753420\n",
       "998  0.369338  0.162429  2.089153\n",
       "999  0.300511  0.152150  1.777929\n",
       "\n",
       "[1000 rows x 3 columns]"
      ]
     },
     "execution_count": 28,
     "metadata": {},
     "output_type": "execute_result"
    }
   ],
   "source": [
    "df3=portfolios(a2)\n",
    "df3"
   ]
  },
  {
   "cell_type": "code",
   "execution_count": 29,
   "metadata": {},
   "outputs": [
    {
     "data": {
      "text/plain": [
       "198"
      ]
     },
     "execution_count": 29,
     "metadata": {},
     "output_type": "execute_result"
    }
   ],
   "source": [
    "# index of the portfolio with the maximum sharpe ratio \n",
    "df3[\"sharpe\"].idxmax()"
   ]
  },
  {
   "cell_type": "code",
   "execution_count": 30,
   "metadata": {},
   "outputs": [
    {
     "data": {
      "text/plain": [
       "ret       0.393081\n",
       "std       0.162319\n",
       "sharpe    2.236833\n",
       "Name: 198, dtype: float64"
      ]
     },
     "execution_count": 30,
     "metadata": {},
     "output_type": "execute_result"
    }
   ],
   "source": [
    "df3.iloc[198]"
   ]
  },
  {
   "cell_type": "code",
   "execution_count": 31,
   "metadata": {},
   "outputs": [],
   "source": [
    "# ret, std, and sharpe ratio of the portfolio with the maximum sharpe ratio \n",
    "ret2,std2,sharpe2=df3.iloc[198]"
   ]
  },
  {
   "cell_type": "code",
   "execution_count": 32,
   "metadata": {},
   "outputs": [
    {
     "data": {
      "text/plain": [
       "0.3930812691635046"
      ]
     },
     "execution_count": 32,
     "metadata": {},
     "output_type": "execute_result"
    }
   ],
   "source": [
    "ret2"
   ]
  },
  {
   "cell_type": "code",
   "execution_count": 33,
   "metadata": {},
   "outputs": [
    {
     "data": {
      "text/plain": [
       "0.16231935630815592"
      ]
     },
     "execution_count": 33,
     "metadata": {},
     "output_type": "execute_result"
    }
   ],
   "source": [
    "std2"
   ]
  },
  {
   "cell_type": "code",
   "execution_count": 34,
   "metadata": {},
   "outputs": [
    {
     "data": {
      "text/plain": [
       "2.2368328548211545"
      ]
     },
     "execution_count": 34,
     "metadata": {},
     "output_type": "execute_result"
    }
   ],
   "source": [
    "sharpe2"
   ]
  },
  {
   "cell_type": "code",
   "execution_count": 35,
   "metadata": {},
   "outputs": [
    {
     "data": {
      "text/plain": [
       "array([0.22026412, 0.0163288 , 0.17243491, 0.05991052, 0.08290318,\n",
       "       0.04931908, 0.17746593, 0.03244167, 0.18893179])"
      ]
     },
     "execution_count": 35,
     "metadata": {},
     "output_type": "execute_result"
    }
   ],
   "source": [
    "a2[198]"
   ]
  },
  {
   "cell_type": "code",
   "execution_count": 36,
   "metadata": {},
   "outputs": [
    {
     "data": {
      "text/plain": [
       "1.0"
      ]
     },
     "execution_count": 36,
     "metadata": {},
     "output_type": "execute_result"
    }
   ],
   "source": [
    "np.sum(a2[198])"
   ]
  },
  {
   "cell_type": "code",
   "execution_count": 37,
   "metadata": {},
   "outputs": [
    {
     "data": {
      "text/plain": [
       "Index(['AAPL', 'AMZN', 'META', 'GOOGL', 'IBM', 'INTC', 'MSFT', 'ORCL', 'WMT'], dtype='object')"
      ]
     },
     "execution_count": 37,
     "metadata": {},
     "output_type": "execute_result"
    }
   ],
   "source": [
    "df2.columns"
   ]
  },
  {
   "cell_type": "code",
   "execution_count": 38,
   "metadata": {},
   "outputs": [
    {
     "data": {
      "text/plain": [
       "AAPL     0.220264\n",
       "AMZN     0.016329\n",
       "META     0.172435\n",
       "GOOGL    0.059911\n",
       "IBM      0.082903\n",
       "INTC     0.049319\n",
       "MSFT     0.177466\n",
       "ORCL     0.032442\n",
       "WMT      0.188932\n",
       "dtype: float64"
      ]
     },
     "execution_count": 38,
     "metadata": {},
     "output_type": "execute_result"
    }
   ],
   "source": [
    "# weights in a series with index values\n",
    "w2=pd.Series(data=a2[198],index=df2.columns)\n",
    "w2"
   ]
  },
  {
   "cell_type": "markdown",
   "metadata": {},
   "source": [
    "### Optimization algorithm "
   ]
  },
  {
   "cell_type": "code",
   "execution_count": 39,
   "metadata": {},
   "outputs": [],
   "source": [
    "# the objective function to be minimized\n",
    "# maximize the sharpe ratio is equivalent to minimize the negative sharpe ratio\n",
    "def neg_sharpe(weight):\n",
    "    ret=np.dot(df2.mean(),weight)*250\n",
    "    std=np.dot(weight.T, np.dot(df2.cov()*250, weight))**0.5\n",
    "    sharpe=(ret-0.03)/std       \n",
    "    return -sharpe"
   ]
  },
  {
   "cell_type": "code",
   "execution_count": 40,
   "metadata": {},
   "outputs": [
    {
     "data": {
      "text/plain": [
       "-1.7518997508157816"
      ]
     },
     "execution_count": 40,
     "metadata": {},
     "output_type": "execute_result"
    }
   ],
   "source": [
    "neg_sharpe(a1)"
   ]
  },
  {
   "cell_type": "code",
   "execution_count": 41,
   "metadata": {},
   "outputs": [
    {
     "data": {
      "text/plain": [
       "-2.2368328548211545"
      ]
     },
     "execution_count": 41,
     "metadata": {},
     "output_type": "execute_result"
    }
   ],
   "source": [
    "neg_sharpe(a2[198])"
   ]
  },
  {
   "cell_type": "code",
   "execution_count": 42,
   "metadata": {},
   "outputs": [],
   "source": [
    "# sum of the weights minus one is zero \n",
    "def sum_weight(weight):\n",
    "    return np.sum(weight)-1"
   ]
  },
  {
   "cell_type": "code",
   "execution_count": 43,
   "metadata": {},
   "outputs": [
    {
     "data": {
      "text/plain": [
       "0.0"
      ]
     },
     "execution_count": 43,
     "metadata": {},
     "output_type": "execute_result"
    }
   ],
   "source": [
    "sum_weight(a1)"
   ]
  },
  {
   "cell_type": "code",
   "execution_count": 44,
   "metadata": {},
   "outputs": [],
   "source": [
    "# constraint type: 'eq' represents equality\n",
    "# the function sum_weight defines the constraint\n",
    "# equality constraint means that the constraint function result is to be zero \n",
    "constraint = ({'type':'eq','fun': sum_weight})"
   ]
  },
  {
   "cell_type": "code",
   "execution_count": 45,
   "metadata": {},
   "outputs": [],
   "source": [
    "# lower and upper bounds \n",
    "# sequence of (min, max) pairs for each element \n",
    "bound = ((0, 1), (0, 1), (0, 1), (0, 1),(0, 1), (0, 1), (0, 1), (0, 1),(0,1))"
   ]
  },
  {
   "cell_type": "code",
   "execution_count": 46,
   "metadata": {},
   "outputs": [
    {
     "data": {
      "text/plain": [
       "array([0.11111111, 0.11111111, 0.11111111, 0.11111111, 0.11111111,\n",
       "       0.11111111, 0.11111111, 0.11111111, 0.11111111])"
      ]
     },
     "execution_count": 46,
     "metadata": {},
     "output_type": "execute_result"
    }
   ],
   "source": [
    "# initial guess of weights  \n",
    "# array of 9 elements \n",
    "a1"
   ]
  },
  {
   "cell_type": "code",
   "execution_count": 47,
   "metadata": {},
   "outputs": [
    {
     "data": {
      "text/plain": [
       "     fun: -2.6587433222296615\n",
       "     jac: array([-0.19536078,  1.57661888, -0.19453362,  1.00175834,  0.75494319,\n",
       "        1.09655628, -0.19548267,  0.72401512, -0.19553712])\n",
       " message: 'Optimization terminated successfully'\n",
       "    nfev: 82\n",
       "     nit: 8\n",
       "    njev: 8\n",
       "  status: 0\n",
       " success: True\n",
       "       x: array([3.62223968e-01, 1.04427643e-15, 8.10262584e-04, 2.48594006e-16,\n",
       "       0.00000000e+00, 2.21990395e-17, 2.16643062e-01, 2.04778685e-16,\n",
       "       4.20322707e-01])"
      ]
     },
     "execution_count": 47,
     "metadata": {},
     "output_type": "execute_result"
    }
   ],
   "source": [
    "optimal=minimize(fun=neg_sharpe, x0=a1, method = 'SLSQP', bounds = bound, constraints = constraint)\n",
    "optimal\n",
    "# SLSQP stands for sequential least squares programming\n",
    "# SLSQP method minimizes a function of several variables with bounds and constraints"
   ]
  },
  {
   "cell_type": "code",
   "execution_count": 48,
   "metadata": {},
   "outputs": [
    {
     "data": {
      "text/plain": [
       "array([3.62223968e-01, 1.04427643e-15, 8.10262584e-04, 2.48594006e-16,\n",
       "       0.00000000e+00, 2.21990395e-17, 2.16643062e-01, 2.04778685e-16,\n",
       "       4.20322707e-01])"
      ]
     },
     "execution_count": 48,
     "metadata": {},
     "output_type": "execute_result"
    }
   ],
   "source": [
    "# weights of the optimal portfolio \n",
    "# x is the solution array \n",
    "a3=optimal[\"x\"]\n",
    "a3\n",
    "# fun is the value of objective function"
   ]
  },
  {
   "cell_type": "code",
   "execution_count": 49,
   "metadata": {},
   "outputs": [
    {
     "data": {
      "text/plain": [
       "AAPL     3.622240e-01\n",
       "AMZN     1.044276e-15\n",
       "META     8.102626e-04\n",
       "GOOGL    2.485940e-16\n",
       "IBM      0.000000e+00\n",
       "INTC     2.219904e-17\n",
       "MSFT     2.166431e-01\n",
       "ORCL     2.047787e-16\n",
       "WMT      4.203227e-01\n",
       "dtype: float64"
      ]
     },
     "execution_count": 49,
     "metadata": {},
     "output_type": "execute_result"
    }
   ],
   "source": [
    "# weights in a series with index values\n",
    "w3=pd.Series(data=a3,index=df2.columns)\n",
    "w3"
   ]
  },
  {
   "cell_type": "code",
   "execution_count": 50,
   "metadata": {},
   "outputs": [],
   "source": [
    "# ret, std, and sharpe ratio of the optimal portfolio \n",
    "ret3,std3,sharpe3=portfolio(a3)"
   ]
  },
  {
   "cell_type": "code",
   "execution_count": 51,
   "metadata": {},
   "outputs": [
    {
     "data": {
      "text/plain": [
       "0.4380734226677347"
      ]
     },
     "execution_count": 51,
     "metadata": {},
     "output_type": "execute_result"
    }
   ],
   "source": [
    "ret3"
   ]
  },
  {
   "cell_type": "code",
   "execution_count": 52,
   "metadata": {},
   "outputs": [
    {
     "data": {
      "text/plain": [
       "0.15348357220339656"
      ]
     },
     "execution_count": 52,
     "metadata": {},
     "output_type": "execute_result"
    }
   ],
   "source": [
    "std3"
   ]
  },
  {
   "cell_type": "code",
   "execution_count": 53,
   "metadata": {},
   "outputs": [
    {
     "data": {
      "text/plain": [
       "2.6587433222296615"
      ]
     },
     "execution_count": 53,
     "metadata": {},
     "output_type": "execute_result"
    }
   ],
   "source": [
    "sharpe3"
   ]
  },
  {
   "cell_type": "markdown",
   "metadata": {},
   "source": [
    "### visualize the portfolios "
   ]
  },
  {
   "cell_type": "code",
   "execution_count": 54,
   "metadata": {},
   "outputs": [
    {
     "data": {
      "image/png": "[encoded data removed]",
      "text/plain": [
       "<Figure size 720x360 with 1 Axes>"
      ]
     },
     "metadata": {
      "needs_background": "light"
     },
     "output_type": "display_data"
    }
   ],
   "source": [
    "plt.figure(figsize = (10, 5))\n",
    "plt.scatter(x=df3[\"std\"],y=df3[\"ret\"],c=df3[\"sharpe\"], cmap= \"coolwarm\")\n",
    "plt.scatter(x=std2,y=ret2,color=\"purple\",s=100,marker=\"o\")\n",
    "plt.xlabel('standard deviation')\n",
    "plt.ylabel('return')\n",
    "plt.title('1000 portfoios');"
   ]
  },
  {
   "cell_type": "code",
   "execution_count": 55,
   "metadata": {},
   "outputs": [
    {
     "data": {
      "image/png": "[encoded data removed]",
      "text/plain": [
       "<Figure size 720x360 with 1 Axes>"
      ]
     },
     "metadata": {
      "needs_background": "light"
     },
     "output_type": "display_data"
    }
   ],
   "source": [
    "plt.figure(figsize = (10, 5))\n",
    "plt.scatter(x=df3[\"std\"],y=df3[\"ret\"],c=df3[\"sharpe\"], cmap=\"coolwarm\")\n",
    "plt.scatter(x=std1,y=ret1,color=\"brown\",s=100,marker=\"d\")\n",
    "plt.scatter(x=std2,y=ret2,color=\"purple\",s=100,marker=\"o\")\n",
    "plt.scatter(x=std3,y=ret3,color=\"green\",s=200, marker=\"X\")\n",
    "plt.scatter(x=0,y=0.03,color=\"orange\",s=100, marker=\"s\")\n",
    "plt.plot([0,std2],[0.03,ret2],color=\"blue\")\n",
    "plt.plot([0,std3],[0.03,ret3],color=\"black\")\n",
    "plt.xlabel('standard deviation')\n",
    "plt.ylabel('return')\n",
    "plt.title('finding the optimal portfolio');"
   ]
  },
  {
   "cell_type": "markdown",
   "metadata": {},
   "source": [
    "### visualize the weights of individual stocks "
   ]
  },
  {
   "cell_type": "code",
   "execution_count": 56,
   "metadata": {},
   "outputs": [
    {
     "data": {
      "text/html": [
       "<div>\n",
       "<style scoped>\n",
       "    .dataframe tbody tr th:only-of-type {\n",
       "        vertical-align: middle;\n",
       "    }\n",
       "\n",
       "    .dataframe tbody tr th {\n",
       "        vertical-align: top;\n",
       "    }\n",
       "\n",
       "    .dataframe thead th {\n",
       "        text-align: right;\n",
       "    }\n",
       "</style>\n",
       "<table border=\"1\" class=\"dataframe\">\n",
       "  <thead>\n",
       "    <tr style=\"text-align: right;\">\n",
       "      <th></th>\n",
       "      <th>equal</th>\n",
       "      <th>simulation</th>\n",
       "      <th>optimal</th>\n",
       "    </tr>\n",
       "  </thead>\n",
       "  <tbody>\n",
       "    <tr>\n",
       "      <th>AAPL</th>\n",
       "      <td>0.111111</td>\n",
       "      <td>0.220264</td>\n",
       "      <td>3.622240e-01</td>\n",
       "    </tr>\n",
       "    <tr>\n",
       "      <th>AMZN</th>\n",
       "      <td>0.111111</td>\n",
       "      <td>0.016329</td>\n",
       "      <td>1.044276e-15</td>\n",
       "    </tr>\n",
       "    <tr>\n",
       "      <th>META</th>\n",
       "      <td>0.111111</td>\n",
       "      <td>0.172435</td>\n",
       "      <td>8.102626e-04</td>\n",
       "    </tr>\n",
       "    <tr>\n",
       "      <th>GOOGL</th>\n",
       "      <td>0.111111</td>\n",
       "      <td>0.059911</td>\n",
       "      <td>2.485940e-16</td>\n",
       "    </tr>\n",
       "    <tr>\n",
       "      <th>IBM</th>\n",
       "      <td>0.111111</td>\n",
       "      <td>0.082903</td>\n",
       "      <td>0.000000e+00</td>\n",
       "    </tr>\n",
       "    <tr>\n",
       "      <th>INTC</th>\n",
       "      <td>0.111111</td>\n",
       "      <td>0.049319</td>\n",
       "      <td>2.219904e-17</td>\n",
       "    </tr>\n",
       "    <tr>\n",
       "      <th>MSFT</th>\n",
       "      <td>0.111111</td>\n",
       "      <td>0.177466</td>\n",
       "      <td>2.166431e-01</td>\n",
       "    </tr>\n",
       "    <tr>\n",
       "      <th>ORCL</th>\n",
       "      <td>0.111111</td>\n",
       "      <td>0.032442</td>\n",
       "      <td>2.047787e-16</td>\n",
       "    </tr>\n",
       "    <tr>\n",
       "      <th>WMT</th>\n",
       "      <td>0.111111</td>\n",
       "      <td>0.188932</td>\n",
       "      <td>4.203227e-01</td>\n",
       "    </tr>\n",
       "  </tbody>\n",
       "</table>\n",
       "</div>"
      ],
      "text/plain": [
       "          equal  simulation       optimal\n",
       "AAPL   0.111111    0.220264  3.622240e-01\n",
       "AMZN   0.111111    0.016329  1.044276e-15\n",
       "META   0.111111    0.172435  8.102626e-04\n",
       "GOOGL  0.111111    0.059911  2.485940e-16\n",
       "IBM    0.111111    0.082903  0.000000e+00\n",
       "INTC   0.111111    0.049319  2.219904e-17\n",
       "MSFT   0.111111    0.177466  2.166431e-01\n",
       "ORCL   0.111111    0.032442  2.047787e-16\n",
       "WMT    0.111111    0.188932  4.203227e-01"
      ]
     },
     "execution_count": 56,
     "metadata": {},
     "output_type": "execute_result"
    }
   ],
   "source": [
    "weight=pd.DataFrame({\"equal\":w1,\"simulation\":w2,\"optimal\":w3})\n",
    "weight"
   ]
  },
  {
   "cell_type": "code",
   "execution_count": 57,
   "metadata": {},
   "outputs": [
    {
     "data": {
      "image/png": "[encoded data removed]",
      "text/plain": [
       "<Figure size 720x360 with 1 Axes>"
      ]
     },
     "metadata": {
      "needs_background": "light"
     },
     "output_type": "display_data"
    }
   ],
   "source": [
    "# plot(kind=\"bar\")\n",
    "weight.plot(kind=\"bar\",figsize = (10,5), edgecolor='black')\n",
    "plt.xlabel('stocks')\n",
    "plt.ylabel('weights')\n",
    "plt.title('weights of individual stocks');\n",
    "# plot a whole dataframe to a bar plot\n",
    "# each column is assigned a distinct color\n",
    "# each row is nested in a group along the horizontal axis"
   ]
  },
  {
   "cell_type": "code",
   "execution_count": 58,
   "metadata": {},
   "outputs": [],
   "source": [
    "# in-class activity 6\n",
    "# Which portfolio has the largest allocation to AAPL? "
   ]
  },
  {
   "cell_type": "code",
   "execution_count": null,
   "metadata": {},
   "outputs": [],
   "source": []
  }
 ],
 "metadata": {
  "kernelspec": {
   "display_name": "Python 3",
   "language": "python",
   "name": "python3"
  },
  "language_info": {
   "codemirror_mode": {
    "name": "ipython",
    "version": 3
   },
   "file_extension": ".py",
   "mimetype": "text/x-python",
   "name": "python",
   "nbconvert_exporter": "python",
   "pygments_lexer": "ipython3",
   "version": "3.8.8"
  }
 },
 "nbformat": 4,
 "nbformat_minor": 4
}
